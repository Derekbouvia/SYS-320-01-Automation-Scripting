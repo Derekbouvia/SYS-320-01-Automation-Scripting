{
 "cells": [
  {
   "cell_type": "code",
   "execution_count": 24,
   "metadata": {},
   "outputs": [
    {
     "ename": "ModuleNotFoundError",
     "evalue": "No module named 'yaml'",
     "output_type": "error",
     "traceback": [
      "\u001b[1;31m---------------------------------------------------------------------------\u001b[0m",
      "\u001b[1;31mModuleNotFoundError\u001b[0m                       Traceback (most recent call last)",
      "\u001b[1;32mc:\\Users\\derek.bouvia\\Desktop\\Spring 2022\\SYS-320-01\\Github\\SYS-320-01-Automation-Scripting\\Week02\\class\\Console.ipynb Cell 1'\u001b[0m in \u001b[0;36m<module>\u001b[1;34m\u001b[0m\n\u001b[1;32m----> <a href='vscode-notebook-cell:/c%3A/Users/derek.bouvia/Desktop/Spring%202022/SYS-320-01/Github/SYS-320-01-Automation-Scripting/Week02/class/Console.ipynb#ch0000000?line=0'>1</a>\u001b[0m \u001b[39mimport\u001b[39;00m \u001b[39mapacheLog\u001b[39;00m\n\u001b[0;32m      <a href='vscode-notebook-cell:/c%3A/Users/derek.bouvia/Desktop/Spring%202022/SYS-320-01/Github/SYS-320-01-Automation-Scripting/Week02/class/Console.ipynb#ch0000000?line=1'>2</a>\u001b[0m \u001b[39mimport\u001b[39;00m \u001b[39mimportlib\u001b[39;00m\n\u001b[0;32m      <a href='vscode-notebook-cell:/c%3A/Users/derek.bouvia/Desktop/Spring%202022/SYS-320-01/Github/SYS-320-01-Automation-Scripting/Week02/class/Console.ipynb#ch0000000?line=2'>3</a>\u001b[0m importlib\u001b[39m.\u001b[39mreload(apacheLog)\n",
      "File \u001b[1;32mc:\\Users\\derek.bouvia\\Desktop\\Spring 2022\\SYS-320-01\\Github\\SYS-320-01-Automation-Scripting\\Week02\\class\\apacheLog.py:1\u001b[0m, in \u001b[0;36m<module>\u001b[1;34m\u001b[0m\n\u001b[1;32m----> <a href='file:///c%3A/Users/derek.bouvia/Desktop/Spring%202022/SYS-320-01/Github/SYS-320-01-Automation-Scripting/Week02/class/apacheLog.py?line=0'>1</a>\u001b[0m \u001b[39mimport\u001b[39;00m \u001b[39mlogCheck\u001b[39;00m\n\u001b[0;32m      <a href='file:///c%3A/Users/derek.bouvia/Desktop/Spring%202022/SYS-320-01/Github/SYS-320-01-Automation-Scripting/Week02/class/apacheLog.py?line=1'>2</a>\u001b[0m \u001b[39mimport\u001b[39;00m \u001b[39mimportlib\u001b[39;00m\n\u001b[0;32m      <a href='file:///c%3A/Users/derek.bouvia/Desktop/Spring%202022/SYS-320-01/Github/SYS-320-01-Automation-Scripting/Week02/class/apacheLog.py?line=2'>3</a>\u001b[0m importlib\u001b[39m.\u001b[39mreload(logCheck)\n",
      "File \u001b[1;32mc:\\Users\\derek.bouvia\\Desktop\\Spring 2022\\SYS-320-01\\Github\\SYS-320-01-Automation-Scripting\\Week02\\class\\logCheck.py:2\u001b[0m, in \u001b[0;36m<module>\u001b[1;34m\u001b[0m\n\u001b[0;32m      <a href='file:///c%3A/Users/derek.bouvia/Desktop/Spring%202022/SYS-320-01/Github/SYS-320-01-Automation-Scripting/Week02/class/logCheck.py?line=0'>1</a>\u001b[0m \u001b[39m# Create an interface to search through syslog files\u001b[39;00m\n\u001b[1;32m----> <a href='file:///c%3A/Users/derek.bouvia/Desktop/Spring%202022/SYS-320-01/Github/SYS-320-01-Automation-Scripting/Week02/class/logCheck.py?line=1'>2</a>\u001b[0m \u001b[39mimport\u001b[39;00m \u001b[39mre\u001b[39;00m\u001b[39m,\u001b[39m \u001b[39msys\u001b[39;00m\u001b[39m,\u001b[39m \u001b[39myaml\u001b[39;00m\n\u001b[0;32m      <a href='file:///c%3A/Users/derek.bouvia/Desktop/Spring%202022/SYS-320-01/Github/SYS-320-01-Automation-Scripting/Week02/class/logCheck.py?line=3'>4</a>\u001b[0m \u001b[39m# Open the Yaml file\u001b[39;00m\n\u001b[0;32m      <a href='file:///c%3A/Users/derek.bouvia/Desktop/Spring%202022/SYS-320-01/Github/SYS-320-01-Automation-Scripting/Week02/class/logCheck.py?line=4'>5</a>\u001b[0m \u001b[39mtry\u001b[39;00m:\n",
      "\u001b[1;31mModuleNotFoundError\u001b[0m: No module named 'yaml'"
     ]
    }
   ],
   "source": [
    "import apacheLog\n",
    "import importlib\n",
    "importlib.reload(apacheLog)"
   ]
  },
  {
   "cell_type": "markdown",
   "metadata": {},
   "source": [
    "### APACHE PHP"
   ]
  },
  {
   "cell_type": "code",
   "execution_count": null,
   "metadata": {},
   "outputs": [
    {
     "ename": "NameError",
     "evalue": "name 'apacheLog' is not defined",
     "output_type": "error",
     "traceback": [
      "\u001b[1;31m---------------------------------------------------------------------------\u001b[0m",
      "\u001b[1;31mNameError\u001b[0m                                 Traceback (most recent call last)",
      "\u001b[1;32mc:\\Users\\derek.bouvia\\Desktop\\Spring 2022\\SYS-320-01\\Github\\SYS-320-01-Automation-Scripting\\Week02\\class\\Console.ipynb Cell 3'\u001b[0m in \u001b[0;36m<module>\u001b[1;34m\u001b[0m\n\u001b[1;32m----> <a href='vscode-notebook-cell:/c%3A/Users/derek.bouvia/Desktop/Spring%202022/SYS-320-01/Github/SYS-320-01-Automation-Scripting/Week02/class/Console.ipynb#ch0000008?line=0'>1</a>\u001b[0m apacheLog\u001b[39m.\u001b[39mapache_events(\u001b[39m'\u001b[39m\u001b[39m../../logs/access.log\u001b[39m\u001b[39m'\u001b[39m,\u001b[39m'\u001b[39m\u001b[39mapache\u001b[39m\u001b[39m'\u001b[39m,\u001b[39m'\u001b[39m\u001b[39mphp\u001b[39m\u001b[39m'\u001b[39m)\n",
      "\u001b[1;31mNameError\u001b[0m: name 'apacheLog' is not defined"
     ]
    }
   ],
   "source": [
    "apacheLog.apache_events('../../logs/access.log','apache','php')"
   ]
  }
 ],
 "metadata": {
  "interpreter": {
   "hash": "f37327e0245528886ff42a92332232dcdad3ff636d2a5d25ecb0254e99c2944f"
  },
  "kernelspec": {
   "display_name": "Python 3.10.2 64-bit",
   "language": "python",
   "name": "python3"
  },
  "language_info": {
   "codemirror_mode": {
    "name": "ipython",
    "version": 3
   },
   "file_extension": ".py",
   "mimetype": "text/x-python",
   "name": "python",
   "nbconvert_exporter": "python",
   "pygments_lexer": "ipython3",
   "version": "3.10.2"
  },
  "orig_nbformat": 4
 },
 "nbformat": 4,
 "nbformat_minor": 2
}
