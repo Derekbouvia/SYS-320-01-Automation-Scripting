{
 "cells": [
  {
   "cell_type": "code",
   "execution_count": 14,
   "metadata": {},
   "outputs": [
    {
     "data": {
      "text/plain": [
       "<module 'syslogsshauth' from 'c:\\\\Users\\\\derek.bouvia\\\\Desktop\\\\Spring 2022\\\\SYS-320-01\\\\Github\\\\SYS-320-01-Automation-Scripting\\\\Week01\\\\homework\\\\syslogsshauth.py'>"
      ]
     },
     "execution_count": 14,
     "metadata": {},
     "output_type": "execute_result"
    }
   ],
   "source": [
    "\n",
    "import syslogKlogind\n",
    "import importlib\n",
    "import syslogsshauth\n",
    "importlib.reload(syslogKlogind)\n",
    "importlib.reload(syslogsshauth)"
   ]
  },
  {
   "cell_type": "markdown",
   "metadata": {},
   "source": [
    "# Review system logs"
   ]
  },
  {
   "cell_type": "markdown",
   "metadata": {},
   "source": [
    "syslogSSH User Authentication\n"
   ]
  },
  {
   "cell_type": "code",
   "execution_count": 15,
   "metadata": {},
   "outputs": [
    {
     "name": "stdout",
     "output_type": "stream",
     "text": [
      "test\n"
     ]
    }
   ],
   "source": [
    "syslogsshauth.sshauth('../../logs/Linux_2k.log',['sshd.*session opened for user.*'])"
   ]
  },
  {
   "cell_type": "markdown",
   "metadata": {},
   "source": [
    "### sysKlogind Authentication Failure Domains"
   ]
  },
  {
   "cell_type": "code",
   "execution_count": 11,
   "metadata": {},
   "outputs": [
    {
     "name": "stdout",
     "output_type": "stream",
     "text": [
      "163.27.187.39\n"
     ]
    }
   ],
   "source": [
    "syslogKlogind.klogind('../../logs/Linux_2k.log',['klogind.*Authentication.*'])"
   ]
  },
  {
   "cell_type": "markdown",
   "metadata": {},
   "source": [
    "### SU Open"
   ]
  },
  {
   "cell_type": "code",
   "execution_count": 12,
   "metadata": {},
   "outputs": [
    {
     "ename": "NameError",
     "evalue": "name 'syslogSU' is not defined",
     "output_type": "error",
     "traceback": [
      "\u001b[1;31m---------------------------------------------------------------------------\u001b[0m",
      "\u001b[1;31mNameError\u001b[0m                                 Traceback (most recent call last)",
      "Input \u001b[1;32mIn [12]\u001b[0m, in \u001b[0;36m<module>\u001b[1;34m\u001b[0m\n\u001b[1;32m----> 1\u001b[0m \u001b[43msyslogSU\u001b[49m\u001b[38;5;241m.\u001b[39msu_open(\u001b[38;5;124m'\u001b[39m\u001b[38;5;124m../../logs/Linux_2k.log\u001b[39m\u001b[38;5;124m'\u001b[39m,[\u001b[38;5;124m'\u001b[39m\u001b[38;5;124msu\u001b[39m\u001b[38;5;124m\\\u001b[39m\u001b[38;5;124m(pam_unix\u001b[39m\u001b[38;5;124m\\\u001b[39m\u001b[38;5;124m).*session opened for user.*\u001b[39m\u001b[38;5;124m'\u001b[39m])\n",
      "\u001b[1;31mNameError\u001b[0m: name 'syslogSU' is not defined"
     ]
    }
   ],
   "source": [
    "syslogSU.su_open('../../logs/Linux_2k.log',['su\\(pam_unix\\).*session opened for user.*'])"
   ]
  },
  {
   "cell_type": "markdown",
   "metadata": {},
   "source": [
    "### FTP Connections"
   ]
  },
  {
   "cell_type": "code",
   "execution_count": null,
   "metadata": {},
   "outputs": [
    {
     "ename": "NameError",
     "evalue": "name 'syslogFTPConnection' is not defined",
     "output_type": "error",
     "traceback": [
      "\u001b[1;31m---------------------------------------------------------------------------\u001b[0m",
      "\u001b[1;31mNameError\u001b[0m                                 Traceback (most recent call last)",
      "Input \u001b[1;32mIn [33]\u001b[0m, in \u001b[0;36m<module>\u001b[1;34m\u001b[0m\n\u001b[1;32m----> 1\u001b[0m \u001b[43msyslogFTPConnection\u001b[49m\u001b[38;5;241m.\u001b[39mftp_connection(\u001b[38;5;124m'\u001b[39m\u001b[38;5;124m../../logs/Linux_2k.log\u001b[39m\u001b[38;5;124m'\u001b[39m,[\u001b[38;5;124m'\u001b[39m\u001b[38;5;124mftpd.*connection from.*\u001b[39m\u001b[38;5;124m'\u001b[39m])\n",
      "\u001b[1;31mNameError\u001b[0m: name 'syslogFTPConnection' is not defined"
     ]
    }
   ],
   "source": [
    "syslogFTPConnection.ftp_connection('../../logs/Linux_2k.log',['ftpd.*connection from.*'])"
   ]
  }
 ],
 "metadata": {
  "interpreter": {
   "hash": "f37327e0245528886ff42a92332232dcdad3ff636d2a5d25ecb0254e99c2944f"
  },
  "kernelspec": {
   "display_name": "Python 3.10.2 64-bit",
   "language": "python",
   "name": "python3"
  },
  "language_info": {
   "codemirror_mode": {
    "name": "ipython",
    "version": 3
   },
   "file_extension": ".py",
   "mimetype": "text/x-python",
   "name": "python",
   "nbconvert_exporter": "python",
   "pygments_lexer": "ipython3",
   "version": "3.10.2"
  },
  "orig_nbformat": 4
 },
 "nbformat": 4,
 "nbformat_minor": 2
}
