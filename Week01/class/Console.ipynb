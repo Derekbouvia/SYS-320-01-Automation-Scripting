{
 "cells": [
  {
   "cell_type": "code",
   "execution_count": 1,
   "metadata": {},
   "outputs": [
    {
     "name": "stdout",
     "output_type": "stream",
     "text": [
      "SYS-320\n"
     ]
    }
   ],
   "source": [
    "print(\"SYS-320\")"
   ]
  }
 ],
 "metadata": {
  "interpreter": {
   "hash": "f37327e0245528886ff42a92332232dcdad3ff636d2a5d25ecb0254e99c2944f"
  },
  "kernelspec": {
   "display_name": "Python 3.10.2 64-bit",
   "language": "python",
   "name": "python3"
  },
  "language_info": {
   "codemirror_mode": {
    "name": "ipython",
    "version": 3
   },
   "file_extension": ".py",
   "mimetype": "text/x-python",
   "name": "python",
   "nbconvert_exporter": "python",
   "pygments_lexer": "ipython3",
   "version": "3.10.2"
  },
  "orig_nbformat": 4
 },
 "nbformat": 4,
 "nbformat_minor": 2
}
